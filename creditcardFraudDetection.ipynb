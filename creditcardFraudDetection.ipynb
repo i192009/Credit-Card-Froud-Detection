{
 "cells": [
  {
   "cell_type": "code",
   "execution_count": 51,
   "id": "6a05510f",
   "metadata": {},
   "outputs": [
    {
     "name": "stdout",
     "output_type": "stream",
     "text": [
      "Collecting imbalanced-learn\n",
      "  Using cached imbalanced_learn-0.10.1-py3-none-any.whl (226 kB)\n",
      "Collecting joblib>=1.1.1\n",
      "  Using cached joblib-1.2.0-py3-none-any.whl (297 kB)\n",
      "Requirement already satisfied: threadpoolctl>=2.0.0 in c:\\users\\92346\\anaconda3\\lib\\site-packages (from imbalanced-learn) (2.2.0)\n",
      "Requirement already satisfied: numpy>=1.17.3 in c:\\users\\92346\\anaconda3\\lib\\site-packages (from imbalanced-learn) (1.22.4)\n",
      "Requirement already satisfied: scikit-learn>=1.0.2 in c:\\users\\92346\\anaconda3\\lib\\site-packages (from imbalanced-learn) (1.0.2)\n",
      "Requirement already satisfied: scipy>=1.3.2 in c:\\users\\92346\\anaconda3\\lib\\site-packages (from imbalanced-learn) (1.7.3)\n",
      "Installing collected packages: joblib, imbalanced-learn\n",
      "  Attempting uninstall: joblib\n",
      "    Found existing installation: joblib 1.1.0\n",
      "    Uninstalling joblib-1.1.0:\n",
      "      Successfully uninstalled joblib-1.1.0\n",
      "Successfully installed imbalanced-learn-0.10.1 joblib-1.2.0\n"
     ]
    },
    {
     "name": "stderr",
     "output_type": "stream",
     "text": [
      "WARNING: Ignoring invalid distribution -rotobuf (c:\\users\\92346\\anaconda3\\lib\\site-packages)\n",
      "WARNING: Ignoring invalid distribution -rotobuf (c:\\users\\92346\\anaconda3\\lib\\site-packages)\n",
      "WARNING: Ignoring invalid distribution -rotobuf (c:\\users\\92346\\anaconda3\\lib\\site-packages)\n",
      "    WARNING: Ignoring invalid distribution -rotobuf (c:\\users\\92346\\anaconda3\\lib\\site-packages)\n",
      "WARNING: Ignoring invalid distribution -rotobuf (c:\\users\\92346\\anaconda3\\lib\\site-packages)\n",
      "WARNING: Ignoring invalid distribution -rotobuf (c:\\users\\92346\\anaconda3\\lib\\site-packages)\n",
      "WARNING: Ignoring invalid distribution -rotobuf (c:\\users\\92346\\anaconda3\\lib\\site-packages)\n",
      "WARNING: Ignoring invalid distribution -rotobuf (c:\\users\\92346\\anaconda3\\lib\\site-packages)\n",
      "WARNING: Ignoring invalid distribution -rotobuf (c:\\users\\92346\\anaconda3\\lib\\site-packages)\n"
     ]
    }
   ],
   "source": [
    "!pip install imbalanced-learn\n"
   ]
  },
  {
   "cell_type": "markdown",
   "id": "caa6744d",
   "metadata": {},
   "source": [
    "# Introduction:\n",
    "The provided code demonstrates an implementation of a neural network model to classify credit card transactions as either fraudulent or non-fraudulent. The dataset used for this task is the Credit Card Fraud Detection dataset from Kaggle. The code first loads and preprocesses the data, oversamples the minority class, and then trains a neural network model using Keras. The accuracy of the model is evaluated on the testing set, and the performance is visualized using various plots. Finally, a new transaction is provided to the model, and the model predicts whether the transaction is fraudulent or not."
   ]
  },
  {
   "cell_type": "code",
   "execution_count": 52,
   "id": "be19d463",
   "metadata": {},
   "outputs": [],
   "source": [
    "import pandas as pd\n",
    "import numpy as np\n",
    "from sklearn.preprocessing import StandardScaler\n",
    "from sklearn.model_selection import train_test_split\n",
    "import matplotlib.pyplot as plt\n",
    "import keras\n",
    "from keras.models import Sequential\n",
    "from keras.layers import Dense, Dropout\n",
    "from sklearn.model_selection import train_test_split\n",
    "from imblearn.over_sampling import RandomOverSampler\n"
   ]
  },
  {
   "cell_type": "code",
   "execution_count": 53,
   "id": "6c165a48",
   "metadata": {},
   "outputs": [],
   "source": [
    "# load the dataset\n",
    "data = pd.read_csv('creditcard.csv')"
   ]
  },
  {
   "cell_type": "markdown",
   "id": "32789af4",
   "metadata": {},
   "source": [
    "# Description of dataset\n",
    "The credit card fraud detection dataset is a real-world dataset containing credit card transactions made in September 2013 by European cardholders. The dataset has a total of 31 columns, of which 28 are anonymized input features labeled V1 through V28, one column containing the transaction time in seconds since the first transaction (Time), one column containing the transaction amount (Amount), and one binary target variable indicating whether the transaction was fraudulent (Class).\n",
    "\n",
    "The dataset contains a total of 284,807 transactions, of which only 492 (0.172%) are fraudulent. This makes the dataset highly imbalanced, with the majority of transactions being non-fraudulent. The input features have already been preprocessed using PCA to protect sensitive information, so their meaning is not immediately clear.\n",
    "\n",
    "This dataset is commonly used as a benchmark dataset for evaluating the performance of fraud detection models, especially those based on machine learning techniques such as neural networks. The challenge in this dataset is to develop a model that can accurately detect the rare cases of fraud while minimizing false positives on non-fraudulent transactions."
   ]
  },
  {
   "cell_type": "code",
   "execution_count": 54,
   "id": "f6326669",
   "metadata": {},
   "outputs": [],
   "source": [
    "# split the data into input features and target variable\n",
    "X = data.drop(['Class'], axis=1)\n",
    "y = data['Class']"
   ]
  },
  {
   "cell_type": "code",
   "execution_count": 55,
   "id": "9b5ef5cc",
   "metadata": {},
   "outputs": [],
   "source": [
    "# scale the input features\n",
    "scaler = StandardScaler()\n",
    "X = scaler.fit_transform(X)"
   ]
  },
  {
   "cell_type": "code",
   "execution_count": 56,
   "id": "27c208a6",
   "metadata": {},
   "outputs": [],
   "source": [
    "# oversample the minority class using RandomOverSampler\n",
    "ros = RandomOverSampler(random_state=42)\n",
    "X_resampled, y_resampled = ros.fit_resample(X, y)"
   ]
  },
  {
   "cell_type": "markdown",
   "id": "53277609",
   "metadata": {},
   "source": [
    "# Code to balance the Dataset\n",
    "This code is performing oversampling of the minority class in the dataset using the RandomOverSampler from the imblearn library.\n",
    "\n",
    "The oversampling technique aims to balance the distribution of classes in the dataset, as the original dataset may have an imbalance between the positive (fraudulent transactions) and negative (non-fraudulent transactions) classes. This can result in a biased model, where it may be more accurate at predicting the majority class but less accurate at predicting the minority class.\n",
    "\n",
    "The RandomOverSampler creates synthetic samples of the minority class to increase its representation in the dataset. The algorithm randomly selects samples from the minority class and generates new samples that are similar to them by perturbing the feature values slightly. This is repeated until the desired balance is achieved.\n",
    "\n",
    "In this code, the oversampling is performed on the entire dataset (X, y) and the resulting resampled dataset is stored in the variables X_resampled and y_resampled. The random_state parameter is set to 42 to ensure reproducibility of the results."
   ]
  },
  {
   "cell_type": "code",
   "execution_count": 57,
   "id": "dd593cba",
   "metadata": {},
   "outputs": [],
   "source": [
    "# split the data into training and testing sets\n",
    "X_train, X_test, y_train, y_test = train_test_split(X, y, test_size=0.2, random_state=42)"
   ]
  },
  {
   "cell_type": "code",
   "execution_count": 58,
   "id": "145c7169",
   "metadata": {},
   "outputs": [
    {
     "name": "stdout",
     "output_type": "stream",
     "text": [
      "Training data shape: (227845, 30) (227845,)\n",
      "Testing data shape: (56962, 30) (56962,)\n"
     ]
    }
   ],
   "source": [
    "# print the shapes of the training and testing sets\n",
    "print('Training data shape:', X_train.shape, y_train.shape)\n",
    "print('Testing data shape:', X_test.shape, y_test.shape)"
   ]
  },
  {
   "cell_type": "code",
   "execution_count": 59,
   "id": "2b6b6cf1",
   "metadata": {},
   "outputs": [
    {
     "data": {
      "text/html": [
       "<div>\n",
       "<style scoped>\n",
       "    .dataframe tbody tr th:only-of-type {\n",
       "        vertical-align: middle;\n",
       "    }\n",
       "\n",
       "    .dataframe tbody tr th {\n",
       "        vertical-align: top;\n",
       "    }\n",
       "\n",
       "    .dataframe thead th {\n",
       "        text-align: right;\n",
       "    }\n",
       "</style>\n",
       "<table border=\"1\" class=\"dataframe\">\n",
       "  <thead>\n",
       "    <tr style=\"text-align: right;\">\n",
       "      <th></th>\n",
       "      <th>Time</th>\n",
       "      <th>V1</th>\n",
       "      <th>V2</th>\n",
       "      <th>V3</th>\n",
       "      <th>V4</th>\n",
       "      <th>V5</th>\n",
       "      <th>V6</th>\n",
       "      <th>V7</th>\n",
       "      <th>V8</th>\n",
       "      <th>V9</th>\n",
       "      <th>...</th>\n",
       "      <th>V21</th>\n",
       "      <th>V22</th>\n",
       "      <th>V23</th>\n",
       "      <th>V24</th>\n",
       "      <th>V25</th>\n",
       "      <th>V26</th>\n",
       "      <th>V27</th>\n",
       "      <th>V28</th>\n",
       "      <th>Amount</th>\n",
       "      <th>Class</th>\n",
       "    </tr>\n",
       "  </thead>\n",
       "  <tbody>\n",
       "    <tr>\n",
       "      <th>count</th>\n",
       "      <td>284807.000000</td>\n",
       "      <td>2.848070e+05</td>\n",
       "      <td>2.848070e+05</td>\n",
       "      <td>2.848070e+05</td>\n",
       "      <td>2.848070e+05</td>\n",
       "      <td>2.848070e+05</td>\n",
       "      <td>2.848070e+05</td>\n",
       "      <td>2.848070e+05</td>\n",
       "      <td>2.848070e+05</td>\n",
       "      <td>2.848070e+05</td>\n",
       "      <td>...</td>\n",
       "      <td>2.848070e+05</td>\n",
       "      <td>2.848070e+05</td>\n",
       "      <td>2.848070e+05</td>\n",
       "      <td>2.848070e+05</td>\n",
       "      <td>2.848070e+05</td>\n",
       "      <td>2.848070e+05</td>\n",
       "      <td>2.848070e+05</td>\n",
       "      <td>2.848070e+05</td>\n",
       "      <td>284807.000000</td>\n",
       "      <td>284807.000000</td>\n",
       "    </tr>\n",
       "    <tr>\n",
       "      <th>mean</th>\n",
       "      <td>94813.859575</td>\n",
       "      <td>3.918649e-15</td>\n",
       "      <td>5.682686e-16</td>\n",
       "      <td>-8.761736e-15</td>\n",
       "      <td>2.811118e-15</td>\n",
       "      <td>-1.552103e-15</td>\n",
       "      <td>2.040130e-15</td>\n",
       "      <td>-1.698953e-15</td>\n",
       "      <td>-1.893285e-16</td>\n",
       "      <td>-3.147640e-15</td>\n",
       "      <td>...</td>\n",
       "      <td>1.473120e-16</td>\n",
       "      <td>8.042109e-16</td>\n",
       "      <td>5.282512e-16</td>\n",
       "      <td>4.456271e-15</td>\n",
       "      <td>1.426896e-15</td>\n",
       "      <td>1.701640e-15</td>\n",
       "      <td>-3.662252e-16</td>\n",
       "      <td>-1.217809e-16</td>\n",
       "      <td>88.349619</td>\n",
       "      <td>0.001727</td>\n",
       "    </tr>\n",
       "    <tr>\n",
       "      <th>std</th>\n",
       "      <td>47488.145955</td>\n",
       "      <td>1.958696e+00</td>\n",
       "      <td>1.651309e+00</td>\n",
       "      <td>1.516255e+00</td>\n",
       "      <td>1.415869e+00</td>\n",
       "      <td>1.380247e+00</td>\n",
       "      <td>1.332271e+00</td>\n",
       "      <td>1.237094e+00</td>\n",
       "      <td>1.194353e+00</td>\n",
       "      <td>1.098632e+00</td>\n",
       "      <td>...</td>\n",
       "      <td>7.345240e-01</td>\n",
       "      <td>7.257016e-01</td>\n",
       "      <td>6.244603e-01</td>\n",
       "      <td>6.056471e-01</td>\n",
       "      <td>5.212781e-01</td>\n",
       "      <td>4.822270e-01</td>\n",
       "      <td>4.036325e-01</td>\n",
       "      <td>3.300833e-01</td>\n",
       "      <td>250.120109</td>\n",
       "      <td>0.041527</td>\n",
       "    </tr>\n",
       "    <tr>\n",
       "      <th>min</th>\n",
       "      <td>0.000000</td>\n",
       "      <td>-5.640751e+01</td>\n",
       "      <td>-7.271573e+01</td>\n",
       "      <td>-4.832559e+01</td>\n",
       "      <td>-5.683171e+00</td>\n",
       "      <td>-1.137433e+02</td>\n",
       "      <td>-2.616051e+01</td>\n",
       "      <td>-4.355724e+01</td>\n",
       "      <td>-7.321672e+01</td>\n",
       "      <td>-1.343407e+01</td>\n",
       "      <td>...</td>\n",
       "      <td>-3.483038e+01</td>\n",
       "      <td>-1.093314e+01</td>\n",
       "      <td>-4.480774e+01</td>\n",
       "      <td>-2.836627e+00</td>\n",
       "      <td>-1.029540e+01</td>\n",
       "      <td>-2.604551e+00</td>\n",
       "      <td>-2.256568e+01</td>\n",
       "      <td>-1.543008e+01</td>\n",
       "      <td>0.000000</td>\n",
       "      <td>0.000000</td>\n",
       "    </tr>\n",
       "    <tr>\n",
       "      <th>25%</th>\n",
       "      <td>54201.500000</td>\n",
       "      <td>-9.203734e-01</td>\n",
       "      <td>-5.985499e-01</td>\n",
       "      <td>-8.903648e-01</td>\n",
       "      <td>-8.486401e-01</td>\n",
       "      <td>-6.915971e-01</td>\n",
       "      <td>-7.682956e-01</td>\n",
       "      <td>-5.540759e-01</td>\n",
       "      <td>-2.086297e-01</td>\n",
       "      <td>-6.430976e-01</td>\n",
       "      <td>...</td>\n",
       "      <td>-2.283949e-01</td>\n",
       "      <td>-5.423504e-01</td>\n",
       "      <td>-1.618463e-01</td>\n",
       "      <td>-3.545861e-01</td>\n",
       "      <td>-3.171451e-01</td>\n",
       "      <td>-3.269839e-01</td>\n",
       "      <td>-7.083953e-02</td>\n",
       "      <td>-5.295979e-02</td>\n",
       "      <td>5.600000</td>\n",
       "      <td>0.000000</td>\n",
       "    </tr>\n",
       "    <tr>\n",
       "      <th>50%</th>\n",
       "      <td>84692.000000</td>\n",
       "      <td>1.810880e-02</td>\n",
       "      <td>6.548556e-02</td>\n",
       "      <td>1.798463e-01</td>\n",
       "      <td>-1.984653e-02</td>\n",
       "      <td>-5.433583e-02</td>\n",
       "      <td>-2.741871e-01</td>\n",
       "      <td>4.010308e-02</td>\n",
       "      <td>2.235804e-02</td>\n",
       "      <td>-5.142873e-02</td>\n",
       "      <td>...</td>\n",
       "      <td>-2.945017e-02</td>\n",
       "      <td>6.781943e-03</td>\n",
       "      <td>-1.119293e-02</td>\n",
       "      <td>4.097606e-02</td>\n",
       "      <td>1.659350e-02</td>\n",
       "      <td>-5.213911e-02</td>\n",
       "      <td>1.342146e-03</td>\n",
       "      <td>1.124383e-02</td>\n",
       "      <td>22.000000</td>\n",
       "      <td>0.000000</td>\n",
       "    </tr>\n",
       "    <tr>\n",
       "      <th>75%</th>\n",
       "      <td>139320.500000</td>\n",
       "      <td>1.315642e+00</td>\n",
       "      <td>8.037239e-01</td>\n",
       "      <td>1.027196e+00</td>\n",
       "      <td>7.433413e-01</td>\n",
       "      <td>6.119264e-01</td>\n",
       "      <td>3.985649e-01</td>\n",
       "      <td>5.704361e-01</td>\n",
       "      <td>3.273459e-01</td>\n",
       "      <td>5.971390e-01</td>\n",
       "      <td>...</td>\n",
       "      <td>1.863772e-01</td>\n",
       "      <td>5.285536e-01</td>\n",
       "      <td>1.476421e-01</td>\n",
       "      <td>4.395266e-01</td>\n",
       "      <td>3.507156e-01</td>\n",
       "      <td>2.409522e-01</td>\n",
       "      <td>9.104512e-02</td>\n",
       "      <td>7.827995e-02</td>\n",
       "      <td>77.165000</td>\n",
       "      <td>0.000000</td>\n",
       "    </tr>\n",
       "    <tr>\n",
       "      <th>max</th>\n",
       "      <td>172792.000000</td>\n",
       "      <td>2.454930e+00</td>\n",
       "      <td>2.205773e+01</td>\n",
       "      <td>9.382558e+00</td>\n",
       "      <td>1.687534e+01</td>\n",
       "      <td>3.480167e+01</td>\n",
       "      <td>7.330163e+01</td>\n",
       "      <td>1.205895e+02</td>\n",
       "      <td>2.000721e+01</td>\n",
       "      <td>1.559499e+01</td>\n",
       "      <td>...</td>\n",
       "      <td>2.720284e+01</td>\n",
       "      <td>1.050309e+01</td>\n",
       "      <td>2.252841e+01</td>\n",
       "      <td>4.584549e+00</td>\n",
       "      <td>7.519589e+00</td>\n",
       "      <td>3.517346e+00</td>\n",
       "      <td>3.161220e+01</td>\n",
       "      <td>3.384781e+01</td>\n",
       "      <td>25691.160000</td>\n",
       "      <td>1.000000</td>\n",
       "    </tr>\n",
       "  </tbody>\n",
       "</table>\n",
       "<p>8 rows × 31 columns</p>\n",
       "</div>"
      ],
      "text/plain": [
       "                Time            V1            V2            V3            V4  \\\n",
       "count  284807.000000  2.848070e+05  2.848070e+05  2.848070e+05  2.848070e+05   \n",
       "mean    94813.859575  3.918649e-15  5.682686e-16 -8.761736e-15  2.811118e-15   \n",
       "std     47488.145955  1.958696e+00  1.651309e+00  1.516255e+00  1.415869e+00   \n",
       "min         0.000000 -5.640751e+01 -7.271573e+01 -4.832559e+01 -5.683171e+00   \n",
       "25%     54201.500000 -9.203734e-01 -5.985499e-01 -8.903648e-01 -8.486401e-01   \n",
       "50%     84692.000000  1.810880e-02  6.548556e-02  1.798463e-01 -1.984653e-02   \n",
       "75%    139320.500000  1.315642e+00  8.037239e-01  1.027196e+00  7.433413e-01   \n",
       "max    172792.000000  2.454930e+00  2.205773e+01  9.382558e+00  1.687534e+01   \n",
       "\n",
       "                 V5            V6            V7            V8            V9  \\\n",
       "count  2.848070e+05  2.848070e+05  2.848070e+05  2.848070e+05  2.848070e+05   \n",
       "mean  -1.552103e-15  2.040130e-15 -1.698953e-15 -1.893285e-16 -3.147640e-15   \n",
       "std    1.380247e+00  1.332271e+00  1.237094e+00  1.194353e+00  1.098632e+00   \n",
       "min   -1.137433e+02 -2.616051e+01 -4.355724e+01 -7.321672e+01 -1.343407e+01   \n",
       "25%   -6.915971e-01 -7.682956e-01 -5.540759e-01 -2.086297e-01 -6.430976e-01   \n",
       "50%   -5.433583e-02 -2.741871e-01  4.010308e-02  2.235804e-02 -5.142873e-02   \n",
       "75%    6.119264e-01  3.985649e-01  5.704361e-01  3.273459e-01  5.971390e-01   \n",
       "max    3.480167e+01  7.330163e+01  1.205895e+02  2.000721e+01  1.559499e+01   \n",
       "\n",
       "       ...           V21           V22           V23           V24  \\\n",
       "count  ...  2.848070e+05  2.848070e+05  2.848070e+05  2.848070e+05   \n",
       "mean   ...  1.473120e-16  8.042109e-16  5.282512e-16  4.456271e-15   \n",
       "std    ...  7.345240e-01  7.257016e-01  6.244603e-01  6.056471e-01   \n",
       "min    ... -3.483038e+01 -1.093314e+01 -4.480774e+01 -2.836627e+00   \n",
       "25%    ... -2.283949e-01 -5.423504e-01 -1.618463e-01 -3.545861e-01   \n",
       "50%    ... -2.945017e-02  6.781943e-03 -1.119293e-02  4.097606e-02   \n",
       "75%    ...  1.863772e-01  5.285536e-01  1.476421e-01  4.395266e-01   \n",
       "max    ...  2.720284e+01  1.050309e+01  2.252841e+01  4.584549e+00   \n",
       "\n",
       "                V25           V26           V27           V28         Amount  \\\n",
       "count  2.848070e+05  2.848070e+05  2.848070e+05  2.848070e+05  284807.000000   \n",
       "mean   1.426896e-15  1.701640e-15 -3.662252e-16 -1.217809e-16      88.349619   \n",
       "std    5.212781e-01  4.822270e-01  4.036325e-01  3.300833e-01     250.120109   \n",
       "min   -1.029540e+01 -2.604551e+00 -2.256568e+01 -1.543008e+01       0.000000   \n",
       "25%   -3.171451e-01 -3.269839e-01 -7.083953e-02 -5.295979e-02       5.600000   \n",
       "50%    1.659350e-02 -5.213911e-02  1.342146e-03  1.124383e-02      22.000000   \n",
       "75%    3.507156e-01  2.409522e-01  9.104512e-02  7.827995e-02      77.165000   \n",
       "max    7.519589e+00  3.517346e+00  3.161220e+01  3.384781e+01   25691.160000   \n",
       "\n",
       "               Class  \n",
       "count  284807.000000  \n",
       "mean        0.001727  \n",
       "std         0.041527  \n",
       "min         0.000000  \n",
       "25%         0.000000  \n",
       "50%         0.000000  \n",
       "75%         0.000000  \n",
       "max         1.000000  \n",
       "\n",
       "[8 rows x 31 columns]"
      ]
     },
     "execution_count": 59,
     "metadata": {},
     "output_type": "execute_result"
    }
   ],
   "source": [
    "data.describe()"
   ]
  },
  {
   "cell_type": "markdown",
   "id": "96f5860c",
   "metadata": {},
   "source": [
    "# Data preprocessing\n",
    "Here, we first load the credit card fraud detection dataset using Pandas. Then we split the data into input features (X) and target variable (y). Next, we use the StandardScaler function from scikit-learn to standardize the input features. Standardization is a common preprocessing step in machine learning that helps to scale the data to have zero mean and unit variance, which can improve the performance of some models.\n",
    "\n",
    "Finally, we split the data into training and testing sets using the train_test_split function from scikit-learn. This function randomly splits the data into training and testing sets based on a given ratio. In this example, we use a 80:20 split ratio and set the random seed to 42 for reproducibility. We print the shapes of the training and testing sets to verify that the data has been split correctly."
   ]
  },
  {
   "cell_type": "code",
   "execution_count": 60,
   "id": "d69723d6",
   "metadata": {},
   "outputs": [
    {
     "data": {
      "image/png": "[encoded data removed]",
      "text/plain": [
       "<Figure size 432x288 with 1 Axes>"
      ]
     },
     "metadata": {
      "needs_background": "light"
     },
     "output_type": "display_data"
    }
   ],
   "source": [
    "# plot the distribution of the target variable\n",
    "plt.hist(data['Class'], bins=2)\n",
    "plt.title('Distribution of Target Variable')\n",
    "plt.xlabel('Class')\n",
    "plt.ylabel('Count')\n",
    "plt.xticks([0, 1])\n",
    "plt.show()"
   ]
  },
  {
   "cell_type": "code",
   "execution_count": 61,
   "id": "3039f9f9",
   "metadata": {},
   "outputs": [
    {
     "data": {
      "text/plain": [
       "<Figure size 720x576 with 0 Axes>"
      ]
     },
     "metadata": {},
     "output_type": "display_data"
    },
    {
     "data": {
      "image/png": "[encoded data removed]",
      "text/plain": [
       "<Figure size 288x288 with 2 Axes>"
      ]
     },
     "metadata": {
      "needs_background": "light"
     },
     "output_type": "display_data"
    }
   ],
   "source": [
    "# plot the correlation matrix of the input features\n",
    "plt.figure(figsize=(10, 8))\n",
    "corr = data.corr()\n",
    "plt.matshow(corr, cmap=plt.cm.Reds)\n",
    "plt.xticks(range(len(corr.columns)), corr.columns, rotation=90)\n",
    "plt.yticks(range(len(corr.columns)), corr.columns)\n",
    "plt.colorbar()\n",
    "plt.title('Correlation Matrix of Input Features')\n",
    "plt.show()"
   ]
  },
  {
   "cell_type": "code",
   "execution_count": 62,
   "id": "2e34bdc5",
   "metadata": {},
   "outputs": [
    {
     "data": {
      "text/plain": [
       "<Figure size 720x576 with 0 Axes>"
      ]
     },
     "metadata": {},
     "output_type": "display_data"
    },
    {
     "data": {
      "image/png": "[encoded data removed]",
      "text/plain": [
       "<Figure size 432x288 with 1 Axes>"
      ]
     },
     "metadata": {
      "needs_background": "light"
     },
     "output_type": "display_data"
    }
   ],
   "source": [
    "\n",
    "# create a box plot of the input features\n",
    "plt.figure(figsize=(10, 8))\n",
    "data.drop(['Time', 'Amount', 'Class'], axis=1).plot(kind='box', vert=False)\n",
    "plt.title('Distribution of Input Features')\n",
    "plt.xlabel('Value')\n",
    "plt.show()"
   ]
  },
  {
   "cell_type": "markdown",
   "id": "6012aed1",
   "metadata": {},
   "source": [
    "# Plots Description\n",
    "1.we plot the distribution of the target variable using a histogram with two bins (one for non-fraudulent transactions and one for fraudulent transactions). We set the title, x-axis label, y-axis label, and tick labels to make the plot more informative.\n",
    "\n",
    "2.Next, we plot the correlation matrix of the input features using a heatmap. The correlation matrix shows how strongly each pair of input features is correlated with each other, with values ranging from -1 to 1. We use the corr() function to compute the correlation matrix and the matshow() function to plot it. We also set the x-axis and y-axis tick labels to the names of the input features for clarity, and add a colorbar to indicate the strength of the correlations.\n",
    "\n",
    "3.A box plot is a useful visualization for showing the distribution of data, including the median, quartiles, and outliers. The box represents the interquartile range (IQR), which contains the middle 50% of the data. The whiskers extend to the smallest and largest values that are within 1.5 times the IQR from the nearest quartile, and any data points beyond the whiskers are considered outliers.\n"
   ]
  },
  {
   "cell_type": "markdown",
   "id": "55a2fa02",
   "metadata": {},
   "source": [
    "# preliminary observation\n",
    "The dataset contains a total of 284,807 transactions, of which only 492 (0.172%) are fraudulent. This makes the dataset highly imbalanced, with the majority of transactions being non-fraudulent.\n",
    "\n",
    "The input features have already been preprocessed using PCA to protect sensitive information, so their meaning is not immediately clear.\n",
    "\n",
    "The Time feature represents the number of seconds elapsed between each transaction and the first transaction in the dataset. This means that the time values are relative and do not provide any absolute information about the transaction time.\n",
    "\n",
    "The Amount feature contains the transaction amount in USD, and has a wide range of values. The minimum transaction amount is 0.00 USD, while the maximum is 25,691.16 USD.\n",
    "\n",
    "The majority of non-fraudulent transactions have a small transaction amount, while the fraudulent transactions have a wider range of transaction amounts.\n",
    "\n",
    "There are no missing values in the dataset."
   ]
  },
  {
   "cell_type": "code",
   "execution_count": 63,
   "id": "1da34067",
   "metadata": {},
   "outputs": [],
   "source": [
    "# define the model architecture\n",
    "model = Sequential()\n",
    "model.add(Dense(64, input_dim=X_train.shape[1], activation='relu'))\n",
    "model.add(Dropout(0.5))\n",
    "model.add(Dense(32, activation='relu'))\n",
    "model.add(Dropout(0.5))\n",
    "model.add(Dense(16, activation='relu'))\n",
    "model.add(Dropout(0.5))\n",
    "model.add(Dense(8, activation='relu'))\n",
    "model.add(Dropout(0.5))\n",
    "model.add(Dense(4, activation='relu'))\n",
    "model.add(Dropout(0.5))\n",
    "model.add(Dense(2, activation='relu'))\n",
    "model.add(Dense(1, activation='sigmoid'))\n"
   ]
  },
  {
   "cell_type": "code",
   "execution_count": 64,
   "id": "544e5e43",
   "metadata": {},
   "outputs": [],
   "source": [
    "# compile the model\n",
    "model.compile(loss='binary_crossentropy', optimizer='adam', metrics=['accuracy'])"
   ]
  },
  {
   "cell_type": "code",
   "execution_count": 65,
   "id": "e64ab8e0",
   "metadata": {},
   "outputs": [
    {
     "name": "stdout",
     "output_type": "stream",
     "text": [
      "Epoch 1/50\n",
      "1781/1781 [==============================] - 8s 4ms/step - loss: 0.4239 - accuracy: 0.9783 - val_loss: 0.2198 - val_accuracy: 0.9983\n",
      "Epoch 2/50\n",
      "1781/1781 [==============================] - 6s 4ms/step - loss: 0.1415 - accuracy: 0.9983 - val_loss: 0.0880 - val_accuracy: 0.9983\n",
      "Epoch 3/50\n",
      "1781/1781 [==============================] - 6s 4ms/step - loss: 0.0614 - accuracy: 0.9983 - val_loss: 0.0407 - val_accuracy: 0.9985\n",
      "Epoch 4/50\n",
      "1781/1781 [==============================] - 7s 4ms/step - loss: 0.0311 - accuracy: 0.9985 - val_loss: 0.0210 - val_accuracy: 0.9986\n",
      "Epoch 5/50\n",
      "1781/1781 [==============================] - 7s 4ms/step - loss: 0.0182 - accuracy: 0.9986 - val_loss: 0.0131 - val_accuracy: 0.9985\n",
      "Epoch 6/50\n",
      "1781/1781 [==============================] - 7s 4ms/step - loss: 0.0125 - accuracy: 0.9987 - val_loss: 0.0093 - val_accuracy: 0.9985\n",
      "Epoch 7/50\n",
      "1781/1781 [==============================] - 7s 4ms/step - loss: 0.0099 - accuracy: 0.9987 - val_loss: 0.0080 - val_accuracy: 0.9985\n",
      "Epoch 8/50\n",
      "1781/1781 [==============================] - 6s 4ms/step - loss: 0.0095 - accuracy: 0.9987 - val_loss: 0.0078 - val_accuracy: 0.9986\n",
      "Epoch 9/50\n",
      "1781/1781 [==============================] - 6s 4ms/step - loss: 0.0085 - accuracy: 0.9988 - val_loss: 0.0068 - val_accuracy: 0.9986\n",
      "Epoch 10/50\n",
      "1781/1781 [==============================] - 7s 4ms/step - loss: 0.0095 - accuracy: 0.9987 - val_loss: 0.0073 - val_accuracy: 0.9986\n",
      "Epoch 11/50\n",
      "1781/1781 [==============================] - 7s 4ms/step - loss: 0.0076 - accuracy: 0.9989 - val_loss: 0.0062 - val_accuracy: 0.9987\n",
      "Epoch 12/50\n",
      "1781/1781 [==============================] - 7s 4ms/step - loss: 0.0092 - accuracy: 0.9988 - val_loss: 0.0061 - val_accuracy: 0.9987\n",
      "Epoch 13/50\n",
      "1781/1781 [==============================] - 6s 4ms/step - loss: 0.0081 - accuracy: 0.9988 - val_loss: 0.0064 - val_accuracy: 0.9987\n",
      "Epoch 14/50\n",
      "1781/1781 [==============================] - 6s 4ms/step - loss: 0.0088 - accuracy: 0.9988 - val_loss: 0.0075 - val_accuracy: 0.9986\n",
      "Epoch 15/50\n",
      "1781/1781 [==============================] - 7s 4ms/step - loss: 0.0081 - accuracy: 0.9989 - val_loss: 0.0078 - val_accuracy: 0.9986\n",
      "Epoch 16/50\n",
      "1781/1781 [==============================] - 7s 4ms/step - loss: 0.0076 - accuracy: 0.9989 - val_loss: 0.0058 - val_accuracy: 0.9988\n",
      "Epoch 17/50\n",
      "1781/1781 [==============================] - 7s 4ms/step - loss: 0.0077 - accuracy: 0.9989 - val_loss: 0.0050 - val_accuracy: 0.9991\n",
      "Epoch 18/50\n",
      "1781/1781 [==============================] - 7s 4ms/step - loss: 0.0072 - accuracy: 0.9990 - val_loss: 0.0051 - val_accuracy: 0.9991\n",
      "Epoch 19/50\n",
      "1781/1781 [==============================] - 6s 4ms/step - loss: 0.0073 - accuracy: 0.9990 - val_loss: 0.0046 - val_accuracy: 0.9992\n",
      "Epoch 20/50\n",
      "1781/1781 [==============================] - 7s 4ms/step - loss: 0.0084 - accuracy: 0.9989 - val_loss: 0.0047 - val_accuracy: 0.9992\n",
      "Epoch 21/50\n",
      "1781/1781 [==============================] - 6s 3ms/step - loss: 0.0072 - accuracy: 0.9990 - val_loss: 0.0048 - val_accuracy: 0.9991\n",
      "Epoch 22/50\n",
      "1781/1781 [==============================] - 7s 4ms/step - loss: 0.0075 - accuracy: 0.9990 - val_loss: 0.0049 - val_accuracy: 0.9992\n",
      "Epoch 23/50\n",
      "1781/1781 [==============================] - 7s 4ms/step - loss: 0.0070 - accuracy: 0.9990 - val_loss: 0.0057 - val_accuracy: 0.9989\n",
      "Epoch 24/50\n",
      "1781/1781 [==============================] - 7s 4ms/step - loss: 0.0066 - accuracy: 0.9991 - val_loss: 0.0049 - val_accuracy: 0.9992\n",
      "Epoch 25/50\n",
      "1781/1781 [==============================] - 7s 4ms/step - loss: 0.0066 - accuracy: 0.9991 - val_loss: 0.0049 - val_accuracy: 0.9992\n",
      "Epoch 26/50\n",
      "1781/1781 [==============================] - 8s 4ms/step - loss: 0.0066 - accuracy: 0.9991 - val_loss: 0.0046 - val_accuracy: 0.9993\n",
      "Epoch 27/50\n",
      "1781/1781 [==============================] - 7s 4ms/step - loss: 0.0062 - accuracy: 0.9991 - val_loss: 0.0048 - val_accuracy: 0.9992\n",
      "Epoch 28/50\n",
      "1781/1781 [==============================] - 7s 4ms/step - loss: 0.0062 - accuracy: 0.9991 - val_loss: 0.0057 - val_accuracy: 0.9989\n",
      "Epoch 29/50\n",
      "1781/1781 [==============================] - 7s 4ms/step - loss: 0.0065 - accuracy: 0.9991 - val_loss: 0.0056 - val_accuracy: 0.9990\n",
      "Epoch 30/50\n",
      "1781/1781 [==============================] - 7s 4ms/step - loss: 0.0066 - accuracy: 0.9991 - val_loss: 0.0047 - val_accuracy: 0.9993\n",
      "Epoch 31/50\n",
      "1781/1781 [==============================] - 7s 4ms/step - loss: 0.0062 - accuracy: 0.9991 - val_loss: 0.0044 - val_accuracy: 0.9994\n",
      "Epoch 32/50\n",
      "1781/1781 [==============================] - 6s 3ms/step - loss: 0.0063 - accuracy: 0.9992 - val_loss: 0.0044 - val_accuracy: 0.9993\n",
      "Epoch 33/50\n",
      "1781/1781 [==============================] - 6s 3ms/step - loss: 0.0062 - accuracy: 0.9991 - val_loss: 0.0047 - val_accuracy: 0.9994\n",
      "Epoch 34/50\n",
      "1781/1781 [==============================] - 6s 4ms/step - loss: 0.0058 - accuracy: 0.9992 - val_loss: 0.0047 - val_accuracy: 0.9994\n",
      "Epoch 35/50\n",
      "1781/1781 [==============================] - 6s 3ms/step - loss: 0.0057 - accuracy: 0.9992 - val_loss: 0.0045 - val_accuracy: 0.9993\n",
      "Epoch 36/50\n",
      "1781/1781 [==============================] - 6s 4ms/step - loss: 0.0060 - accuracy: 0.9992 - val_loss: 0.0046 - val_accuracy: 0.9993\n",
      "Epoch 37/50\n",
      "1781/1781 [==============================] - 6s 4ms/step - loss: 0.0058 - accuracy: 0.9992 - val_loss: 0.0043 - val_accuracy: 0.9994\n",
      "Epoch 38/50\n",
      "1781/1781 [==============================] - 7s 4ms/step - loss: 0.0067 - accuracy: 0.9991 - val_loss: 0.0044 - val_accuracy: 0.9994\n",
      "Epoch 39/50\n",
      "1781/1781 [==============================] - 6s 4ms/step - loss: 0.0059 - accuracy: 0.9992 - val_loss: 0.0045 - val_accuracy: 0.9993\n",
      "Epoch 40/50\n",
      "1781/1781 [==============================] - 7s 4ms/step - loss: 0.0054 - accuracy: 0.9992 - val_loss: 0.0043 - val_accuracy: 0.9994\n",
      "Epoch 41/50\n",
      "1781/1781 [==============================] - 7s 4ms/step - loss: 0.0056 - accuracy: 0.9992 - val_loss: 0.0043 - val_accuracy: 0.9994\n",
      "Epoch 42/50\n",
      "1781/1781 [==============================] - 7s 4ms/step - loss: 0.0053 - accuracy: 0.9993 - val_loss: 0.0044 - val_accuracy: 0.9993\n",
      "Epoch 43/50\n",
      "1781/1781 [==============================] - 6s 4ms/step - loss: 0.0058 - accuracy: 0.9992 - val_loss: 0.0044 - val_accuracy: 0.9994\n",
      "Epoch 44/50\n",
      "1781/1781 [==============================] - 7s 4ms/step - loss: 0.0055 - accuracy: 0.9993 - val_loss: 0.0046 - val_accuracy: 0.9994\n",
      "Epoch 45/50\n",
      "1781/1781 [==============================] - 6s 4ms/step - loss: 0.0052 - accuracy: 0.9993 - val_loss: 0.0051 - val_accuracy: 0.9992\n",
      "Epoch 46/50\n",
      "1781/1781 [==============================] - 6s 4ms/step - loss: 0.0059 - accuracy: 0.9992 - val_loss: 0.0047 - val_accuracy: 0.9994\n",
      "Epoch 47/50\n",
      "1781/1781 [==============================] - 6s 3ms/step - loss: 0.0057 - accuracy: 0.9992 - val_loss: 0.0044 - val_accuracy: 0.9994\n",
      "Epoch 48/50\n",
      "1781/1781 [==============================] - 7s 4ms/step - loss: 0.0055 - accuracy: 0.9993 - val_loss: 0.0046 - val_accuracy: 0.9994\n",
      "Epoch 49/50\n",
      "1781/1781 [==============================] - 7s 4ms/step - loss: 0.0057 - accuracy: 0.9992 - val_loss: 0.0045 - val_accuracy: 0.9994\n",
      "Epoch 50/50\n",
      "1781/1781 [==============================] - 6s 4ms/step - loss: 0.0057 - accuracy: 0.9992 - val_loss: 0.0047 - val_accuracy: 0.9993\n"
     ]
    }
   ],
   "source": [
    "# train the model\n",
    "history = model.fit(X_train, y_train, epochs=50, batch_size=128, validation_data=(X_test, y_test))"
   ]
  },
  {
   "cell_type": "code",
   "execution_count": 66,
   "id": "53a045e3",
   "metadata": {},
   "outputs": [
    {
     "name": "stdout",
     "output_type": "stream",
     "text": [
      "Training accuracy: 99.95%\n"
     ]
    }
   ],
   "source": [
    "# evaluate the model on the training set\n",
    "train_loss, train_acc = model.evaluate(X_train, y_train, verbose=0)\n",
    "print('Training accuracy:', '{:.2%}'.format(train_acc))\n"
   ]
  },
  {
   "cell_type": "code",
   "execution_count": 67,
   "id": "72a86777",
   "metadata": {},
   "outputs": [
    {
     "name": "stdout",
     "output_type": "stream",
     "text": [
      "1781/1781 [==============================] - 3s 2ms/step - loss: 0.0047 - accuracy: 0.9993\n",
      "Testing accuracy: 0.9993153214454651\n"
     ]
    }
   ],
   "source": [
    "# evaluate the model on the testing set\n",
    "loss, accuracy = model.evaluate(X_test, y_test)\n",
    "print('Testing accuracy:', accuracy)"
   ]
  },
  {
   "cell_type": "code",
   "execution_count": 68,
   "id": "d9834575",
   "metadata": {},
   "outputs": [
    {
     "name": "stdout",
     "output_type": "stream",
     "text": [
      "Testing accuracy: 99.93%\n"
     ]
    }
   ],
   "source": [
    "# evaluate the model on the test set\n",
    "test_loss, test_acc = model.evaluate(X_test, y_test, verbose=0)\n",
    "print('Testing accuracy:', '{:.2%}'.format(test_acc))"
   ]
  },
  {
   "cell_type": "markdown",
   "id": "dd83adb9",
   "metadata": {},
   "source": [
    "# Structure implementation explaination\n",
    "The implemented neural network has a total of 7 layers, including an input layer, an output layer, and five hidden layers. The input layer has a number of neurons equal to the number of input features, which in this case is 30. The output layer has a single neuron, which outputs a probability score that predicts the class of the input as either 0 or 1 (fraudulent or non-fraudulent).\n",
    "\n",
    "The five hidden layers are each composed of dense layers, where each layer is fully connected to the previous layer. Each dense layer has a different number of neurons and uses a ReLU activation function. In between each of the hidden layers, there is a dropout layer, which helps to prevent overfitting by randomly dropping out a certain percentage of the neurons during training.\n",
    "\n",
    "The model is compiled with the binary cross-entropy loss function and the Adam optimizer. During training, the model is trained for 50 epochs with a batch size of 128. Finally, the model is evaluated on the test set to obtain the accuracy of the model."
   ]
  },
  {
   "cell_type": "code",
   "execution_count": 69,
   "id": "cedacbf6",
   "metadata": {},
   "outputs": [
    {
     "data": {
      "image/png": "[encoded data removed]",
      "text/plain": [
       "<Figure size 432x288 with 1 Axes>"
      ]
     },
     "metadata": {
      "needs_background": "light"
     },
     "output_type": "display_data"
    }
   ],
   "source": [
    "# plot the training and validation accuracy\n",
    "plt.plot(history.history['accuracy'])\n",
    "plt.plot(history.history['val_accuracy'])\n",
    "plt.title('Model Accuracy')\n",
    "plt.xlabel('Epoch')\n",
    "plt.ylabel('Accuracy')\n",
    "plt.legend(['train', 'test'], loc='upper left')\n",
    "plt.show()"
   ]
  },
  {
   "cell_type": "code",
   "execution_count": 70,
   "id": "03cd84c3",
   "metadata": {},
   "outputs": [
    {
     "data": {
      "image/png": "[encoded data removed]",
      "text/plain": [
       "<Figure size 432x288 with 1 Axes>"
      ]
     },
     "metadata": {
      "needs_background": "light"
     },
     "output_type": "display_data"
    }
   ],
   "source": [
    "# plot the training and validation loss\n",
    "plt.plot(history.history['loss'])\n",
    "plt.plot(history.history['val_loss'])\n",
    "plt.title('Model Loss')\n",
    "plt.xlabel('Epoch')\n",
    "plt.ylabel('Loss')\n",
    "plt.legend(['train', 'test'], loc='upper left')\n",
    "plt.show()"
   ]
  },
  {
   "cell_type": "markdown",
   "id": "39124eef",
   "metadata": {},
   "source": [
    "# Results Visualization\n",
    "This code uses the history object returned by the fit() method to access the training and testing accuracy and loss values for each epoch. It then plots the accuracy and loss curves using Matplotlib.\n",
    "\n",
    "The first plot shows the training and testing accuracy over time, while the second plot shows the training and testing loss over time. You can use these plots to evaluate the performance of your model and identify any issues with overfitting or underfitting"
   ]
  },
  {
   "cell_type": "code",
   "execution_count": 71,
   "id": "e68cca5c",
   "metadata": {},
   "outputs": [
    {
     "name": "stdout",
     "output_type": "stream",
     "text": [
      "1/1 [==============================] - 0s 69ms/step\n",
      "Prediction: Non-Fraudulent\n"
     ]
    },
    {
     "name": "stderr",
     "output_type": "stream",
     "text": [
      "C:\\Users\\92346\\anaconda3\\lib\\site-packages\\sklearn\\base.py:450: UserWarning: X does not have valid feature names, but StandardScaler was fitted with feature names\n",
      "  warnings.warn(\n"
     ]
    }
   ],
   "source": [
    "\n",
    "# create a new transaction to predict (this is just an example)\n",
    "new_transaction = [-0.23786989, -0.15391646, 0.20341041, 0.35439064, -1.13047078, -0.23687564, -0.02912687, -0.34923182, -0.18847277, 0.33714288, -0.02243817, 0.13137173, -0.20075762, -0.0747116, -0.16746986, -0.14794397, -0.09897055, -0.06835106, -0.1206658, -0.1546144, 0.006367, -0.01709406, -0.21433946, 0.07629304, 0.02472997, -0.00011224, -0.01955072, -0.06231786, -0.03006353, 0.04179278]\n",
    "\n",
    "# scale the new transaction using the same scaler object as before\n",
    "new_transaction_scaled = scaler.transform([new_transaction])\n",
    "\n",
    "# make a prediction using your trained neural network\n",
    "prediction = model.predict(new_transaction_scaled)\n",
    "\n",
    "# convert the prediction to a binary label (0 = non-fraudulent, 1 = fraudulent)\n",
    "label = int(prediction.round()[0][0])\n",
    "\n",
    "# print the predicted label\n",
    "if label == 0:\n",
    "    print('Prediction: Non-Fraudulent')\n",
    "else:\n",
    "    print('Prediction: Fraudulent')\n"
   ]
  },
  {
   "cell_type": "markdown",
   "id": "8f899cfe",
   "metadata": {},
   "source": [
    "# Expriment code explaination\n",
    "This code predicts whether a new credit card transaction is fraudulent or not using the trained neural network.\n",
    "\n",
    "The first line of code creates a new transaction to predict, which is a list of numerical values representing the features of the transaction.\n",
    "\n",
    "The second line scales the new transaction using the same scaler object as before to ensure that it is on the same scale as the training data.\n",
    "\n",
    "The third line makes a prediction using the model.predict() method, which takes the scaled transaction as input and returns a prediction of the probability that the transaction is fraudulent.\n",
    "\n",
    "The fourth line converts the prediction to a binary label using the round() method, which rounds the prediction to the nearest integer. The int() function is then used to convert the rounded value to an integer.\n",
    "\n",
    "Finally, the predicted label is printed to the console, either \"Prediction: Non-Fraudulent\" or \"Prediction: Fraudulent\", depending on the value of the predicted label.\n",
    "\n",
    "\n",
    "\n"
   ]
  },
  {
   "cell_type": "markdown",
   "id": "35cbcedf",
   "metadata": {},
   "source": [
    "# Result Findings\n",
    "The trained neural network achieved an accuracy of around 99.93% on the test set. This high accuracy suggests that the model is performing very well on this task of credit card fraud detection.\n",
    "\n"
   ]
  },
  {
   "cell_type": "markdown",
   "id": "6f537767",
   "metadata": {},
   "source": [
    "# Conclusion:\n",
    "In summary, the provided code demonstrates how to build a neural network model for credit card fraud detection. It shows how to preprocess the data, oversample the minority class to deal with class imbalance, build and train a neural network model using Keras, evaluate the performance of the model on the testing set, and use the model to make predictions on new data. The code can be further improved by tuning the hyperparameters of the model, experimenting with different architectures, and using more advanced techniques for dealing with class imbalance."
   ]
  }
 ],
 "metadata": {
  "kernelspec": {
   "display_name": "Python 3 (ipykernel)",
   "language": "python",
   "name": "python3"
  },
  "language_info": {
   "codemirror_mode": {
    "name": "ipython",
    "version": 3
   },
   "file_extension": ".py",
   "mimetype": "text/x-python",
   "name": "python",
   "nbconvert_exporter": "python",
   "pygments_lexer": "ipython3",
   "version": "3.9.12"
  }
 },
 "nbformat": 4,
 "nbformat_minor": 5
}
